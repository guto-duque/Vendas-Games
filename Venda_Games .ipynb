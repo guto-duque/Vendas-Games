{
 "cells": [
  {
   "cell_type": "code",
   "execution_count": 23,
   "metadata": {
    "id": "YPQXsDC0vD9O"
   },
   "outputs": [],
   "source": [
    "##----------------------------------------------------------------------------------------##\n",
    "# Projeto de Analise de Dados com Python e Pandas                                          #\n",
    "# Este projeto faz parte da conclusão do Bootcamp da Digital Innovation One (Data Engineer)# \n",
    "# Foi utilizado para esse projeto um Dataset .csv de vendas de Games.                      #\n",
    "##----------------------------------------------------------------------------------------##\n",
    "\n",
    "\n",
    "#importando biblioteca pandas, numpy e matplotlib:\n",
    "\n",
    "import pandas as pd\n",
    "import numpy as np\n",
    "from matplotlib import pyplot as plt\n"
   ]
  },
  {
   "cell_type": "code",
   "execution_count": 2,
   "metadata": {
    "id": "LAVo-TETykaP"
   },
   "outputs": [],
   "source": [
    "df = pd.read_csv(\"gameSales.csv\")"
   ]
  },
  {
   "cell_type": "code",
   "execution_count": 3,
   "metadata": {
    "colab": {
     "base_uri": "https://localhost:8080/",
     "height": 204
    },
    "executionInfo": {
     "elapsed": 19,
     "status": "ok",
     "timestamp": 1625959975260,
     "user": {
      "displayName": "Anderson Augusto Duque",
      "photoUrl": "https://lh3.googleusercontent.com/a-/AOh14GhVCg87gcSgHrt_JEZkELWxnRFMpzU-K5Ztbb4M=s64",
      "userId": "07101982746224243904"
     },
     "user_tz": 180
    },
    "id": "hyIoJFV0z1Ai",
    "outputId": "4fe8fd66-9e5b-4886-a98a-4acf0f088d36"
   },
   "outputs": [
    {
     "data": {
      "text/html": [
       "<div>\n",
       "<style scoped>\n",
       "    .dataframe tbody tr th:only-of-type {\n",
       "        vertical-align: middle;\n",
       "    }\n",
       "\n",
       "    .dataframe tbody tr th {\n",
       "        vertical-align: top;\n",
       "    }\n",
       "\n",
       "    .dataframe thead th {\n",
       "        text-align: right;\n",
       "    }\n",
       "</style>\n",
       "<table border=\"1\" class=\"dataframe\">\n",
       "  <thead>\n",
       "    <tr style=\"text-align: right;\">\n",
       "      <th></th>\n",
       "      <th>Classificação</th>\n",
       "      <th>Nome</th>\n",
       "      <th>Plataforma</th>\n",
       "      <th>Ano</th>\n",
       "      <th>Gênero</th>\n",
       "      <th>Editora</th>\n",
       "      <th>NA_Vendas</th>\n",
       "      <th>EU_Vendas</th>\n",
       "      <th>JP_Vendas</th>\n",
       "      <th>Outras_Vendas</th>\n",
       "      <th>Vendas_Globais</th>\n",
       "    </tr>\n",
       "  </thead>\n",
       "  <tbody>\n",
       "    <tr>\n",
       "      <th>0</th>\n",
       "      <td>1</td>\n",
       "      <td>Wii Sports</td>\n",
       "      <td>Wii</td>\n",
       "      <td>2006.0</td>\n",
       "      <td>Sports</td>\n",
       "      <td>Nintendo</td>\n",
       "      <td>41.49</td>\n",
       "      <td>29.02</td>\n",
       "      <td>3.77</td>\n",
       "      <td>8.46</td>\n",
       "      <td>82.74</td>\n",
       "    </tr>\n",
       "    <tr>\n",
       "      <th>1</th>\n",
       "      <td>2</td>\n",
       "      <td>Super Mario Bros.</td>\n",
       "      <td>NES</td>\n",
       "      <td>1985.0</td>\n",
       "      <td>Platform</td>\n",
       "      <td>Nintendo</td>\n",
       "      <td>29.08</td>\n",
       "      <td>3.58</td>\n",
       "      <td>6.81</td>\n",
       "      <td>0.77</td>\n",
       "      <td>40.24</td>\n",
       "    </tr>\n",
       "    <tr>\n",
       "      <th>2</th>\n",
       "      <td>3</td>\n",
       "      <td>Mario Kart Wii</td>\n",
       "      <td>Wii</td>\n",
       "      <td>2008.0</td>\n",
       "      <td>Racing</td>\n",
       "      <td>Nintendo</td>\n",
       "      <td>15.85</td>\n",
       "      <td>12.88</td>\n",
       "      <td>3.79</td>\n",
       "      <td>3.31</td>\n",
       "      <td>35.82</td>\n",
       "    </tr>\n",
       "    <tr>\n",
       "      <th>3</th>\n",
       "      <td>4</td>\n",
       "      <td>Wii Sports Resort</td>\n",
       "      <td>Wii</td>\n",
       "      <td>2009.0</td>\n",
       "      <td>Sports</td>\n",
       "      <td>Nintendo</td>\n",
       "      <td>15.75</td>\n",
       "      <td>11.01</td>\n",
       "      <td>3.28</td>\n",
       "      <td>2.96</td>\n",
       "      <td>33.00</td>\n",
       "    </tr>\n",
       "    <tr>\n",
       "      <th>4</th>\n",
       "      <td>5</td>\n",
       "      <td>Pokemon Red/Pokemon Blue</td>\n",
       "      <td>GB</td>\n",
       "      <td>1996.0</td>\n",
       "      <td>Role-Playing</td>\n",
       "      <td>Nintendo</td>\n",
       "      <td>11.27</td>\n",
       "      <td>8.89</td>\n",
       "      <td>10.22</td>\n",
       "      <td>1.00</td>\n",
       "      <td>31.37</td>\n",
       "    </tr>\n",
       "  </tbody>\n",
       "</table>\n",
       "</div>"
      ],
      "text/plain": [
       "   Classificação                      Nome Plataforma     Ano        Gênero  \\\n",
       "0              1                Wii Sports        Wii  2006.0        Sports   \n",
       "1              2         Super Mario Bros.        NES  1985.0      Platform   \n",
       "2              3            Mario Kart Wii        Wii  2008.0        Racing   \n",
       "3              4         Wii Sports Resort        Wii  2009.0        Sports   \n",
       "4              5  Pokemon Red/Pokemon Blue         GB  1996.0  Role-Playing   \n",
       "\n",
       "    Editora  NA_Vendas  EU_Vendas  JP_Vendas  Outras_Vendas  Vendas_Globais  \n",
       "0  Nintendo      41.49      29.02       3.77           8.46           82.74  \n",
       "1  Nintendo      29.08       3.58       6.81           0.77           40.24  \n",
       "2  Nintendo      15.85      12.88       3.79           3.31           35.82  \n",
       "3  Nintendo      15.75      11.01       3.28           2.96           33.00  \n",
       "4  Nintendo      11.27       8.89      10.22           1.00           31.37  "
      ]
     },
     "execution_count": 3,
     "metadata": {},
     "output_type": "execute_result"
    }
   ],
   "source": [
    "#visualizando as 5 primeiras linhas\n",
    "df.head()"
   ]
  },
  {
   "cell_type": "code",
   "execution_count": 4,
   "metadata": {
    "id": "MaCTaBNa1QJF"
   },
   "outputs": [],
   "source": [
    "# Traduzindo colunas\n",
    "df = df.rename(columns={\"Rank\":\"Classificação\", \"Name\":\"Nome\", \"Platform\":\"Plataforma\", \"Year\":\"Ano\", \"Genre\":\"Gênero\", \"Publisher\":\"Editora\", \"NA_Sales\":\"NA_Vendas\", \"EU_Sales\":\"EU_Vendas\", \"JP_Sales\":\"JP_Vendas\", \"Other_Sales\":\"Outras_Vendas\", \"Global_Sales\":\"Vendas_Globais\"})"
   ]
  },
  {
   "cell_type": "code",
   "execution_count": 5,
   "metadata": {
    "colab": {
     "base_uri": "https://localhost:8080/",
     "height": 204
    },
    "executionInfo": {
     "elapsed": 370,
     "status": "ok",
     "timestamp": 1625959980434,
     "user": {
      "displayName": "Anderson Augusto Duque",
      "photoUrl": "https://lh3.googleusercontent.com/a-/AOh14GhVCg87gcSgHrt_JEZkELWxnRFMpzU-K5Ztbb4M=s64",
      "userId": "07101982746224243904"
     },
     "user_tz": 180
    },
    "id": "70sU8lz7C4TC",
    "outputId": "92f482fc-634d-49cc-99a4-0f298f687b4c"
   },
   "outputs": [
    {
     "data": {
      "text/html": [
       "<div>\n",
       "<style scoped>\n",
       "    .dataframe tbody tr th:only-of-type {\n",
       "        vertical-align: middle;\n",
       "    }\n",
       "\n",
       "    .dataframe tbody tr th {\n",
       "        vertical-align: top;\n",
       "    }\n",
       "\n",
       "    .dataframe thead th {\n",
       "        text-align: right;\n",
       "    }\n",
       "</style>\n",
       "<table border=\"1\" class=\"dataframe\">\n",
       "  <thead>\n",
       "    <tr style=\"text-align: right;\">\n",
       "      <th></th>\n",
       "      <th>Classificação</th>\n",
       "      <th>Nome</th>\n",
       "      <th>Plataforma</th>\n",
       "      <th>Ano</th>\n",
       "      <th>Gênero</th>\n",
       "      <th>Editora</th>\n",
       "      <th>NA_Vendas</th>\n",
       "      <th>EU_Vendas</th>\n",
       "      <th>JP_Vendas</th>\n",
       "      <th>Outras_Vendas</th>\n",
       "      <th>Vendas_Globais</th>\n",
       "    </tr>\n",
       "  </thead>\n",
       "  <tbody>\n",
       "    <tr>\n",
       "      <th>0</th>\n",
       "      <td>1</td>\n",
       "      <td>Wii Sports</td>\n",
       "      <td>Wii</td>\n",
       "      <td>2006.0</td>\n",
       "      <td>Sports</td>\n",
       "      <td>Nintendo</td>\n",
       "      <td>41.49</td>\n",
       "      <td>29.02</td>\n",
       "      <td>3.77</td>\n",
       "      <td>8.46</td>\n",
       "      <td>82.74</td>\n",
       "    </tr>\n",
       "    <tr>\n",
       "      <th>1</th>\n",
       "      <td>2</td>\n",
       "      <td>Super Mario Bros.</td>\n",
       "      <td>NES</td>\n",
       "      <td>1985.0</td>\n",
       "      <td>Platform</td>\n",
       "      <td>Nintendo</td>\n",
       "      <td>29.08</td>\n",
       "      <td>3.58</td>\n",
       "      <td>6.81</td>\n",
       "      <td>0.77</td>\n",
       "      <td>40.24</td>\n",
       "    </tr>\n",
       "    <tr>\n",
       "      <th>2</th>\n",
       "      <td>3</td>\n",
       "      <td>Mario Kart Wii</td>\n",
       "      <td>Wii</td>\n",
       "      <td>2008.0</td>\n",
       "      <td>Racing</td>\n",
       "      <td>Nintendo</td>\n",
       "      <td>15.85</td>\n",
       "      <td>12.88</td>\n",
       "      <td>3.79</td>\n",
       "      <td>3.31</td>\n",
       "      <td>35.82</td>\n",
       "    </tr>\n",
       "    <tr>\n",
       "      <th>3</th>\n",
       "      <td>4</td>\n",
       "      <td>Wii Sports Resort</td>\n",
       "      <td>Wii</td>\n",
       "      <td>2009.0</td>\n",
       "      <td>Sports</td>\n",
       "      <td>Nintendo</td>\n",
       "      <td>15.75</td>\n",
       "      <td>11.01</td>\n",
       "      <td>3.28</td>\n",
       "      <td>2.96</td>\n",
       "      <td>33.00</td>\n",
       "    </tr>\n",
       "    <tr>\n",
       "      <th>4</th>\n",
       "      <td>5</td>\n",
       "      <td>Pokemon Red/Pokemon Blue</td>\n",
       "      <td>GB</td>\n",
       "      <td>1996.0</td>\n",
       "      <td>Role-Playing</td>\n",
       "      <td>Nintendo</td>\n",
       "      <td>11.27</td>\n",
       "      <td>8.89</td>\n",
       "      <td>10.22</td>\n",
       "      <td>1.00</td>\n",
       "      <td>31.37</td>\n",
       "    </tr>\n",
       "  </tbody>\n",
       "</table>\n",
       "</div>"
      ],
      "text/plain": [
       "   Classificação                      Nome Plataforma     Ano        Gênero  \\\n",
       "0              1                Wii Sports        Wii  2006.0        Sports   \n",
       "1              2         Super Mario Bros.        NES  1985.0      Platform   \n",
       "2              3            Mario Kart Wii        Wii  2008.0        Racing   \n",
       "3              4         Wii Sports Resort        Wii  2009.0        Sports   \n",
       "4              5  Pokemon Red/Pokemon Blue         GB  1996.0  Role-Playing   \n",
       "\n",
       "    Editora  NA_Vendas  EU_Vendas  JP_Vendas  Outras_Vendas  Vendas_Globais  \n",
       "0  Nintendo      41.49      29.02       3.77           8.46           82.74  \n",
       "1  Nintendo      29.08       3.58       6.81           0.77           40.24  \n",
       "2  Nintendo      15.85      12.88       3.79           3.31           35.82  \n",
       "3  Nintendo      15.75      11.01       3.28           2.96           33.00  \n",
       "4  Nintendo      11.27       8.89      10.22           1.00           31.37  "
      ]
     },
     "execution_count": 5,
     "metadata": {},
     "output_type": "execute_result"
    }
   ],
   "source": [
    "df.head(5)"
   ]
  },
  {
   "cell_type": "code",
   "execution_count": 6,
   "metadata": {
    "colab": {
     "base_uri": "https://localhost:8080/"
    },
    "executionInfo": {
     "elapsed": 8,
     "status": "ok",
     "timestamp": 1625959982883,
     "user": {
      "displayName": "Anderson Augusto Duque",
      "photoUrl": "https://lh3.googleusercontent.com/a-/AOh14GhVCg87gcSgHrt_JEZkELWxnRFMpzU-K5Ztbb4M=s64",
      "userId": "07101982746224243904"
     },
     "user_tz": 180
    },
    "id": "YGZd6RJ1C7nU",
    "outputId": "f46b8a8f-01c9-48a8-c142-37307062bb20"
   },
   "outputs": [
    {
     "data": {
      "text/plain": [
       "(16598, 11)"
      ]
     },
     "execution_count": 6,
     "metadata": {},
     "output_type": "execute_result"
    }
   ],
   "source": [
    "# Mostrando o total de linhas e colunas\n",
    "df.shape"
   ]
  },
  {
   "cell_type": "code",
   "execution_count": 7,
   "metadata": {
    "colab": {
     "base_uri": "https://localhost:8080/"
    },
    "executionInfo": {
     "elapsed": 382,
     "status": "ok",
     "timestamp": 1625959985779,
     "user": {
      "displayName": "Anderson Augusto Duque",
      "photoUrl": "https://lh3.googleusercontent.com/a-/AOh14GhVCg87gcSgHrt_JEZkELWxnRFMpzU-K5Ztbb4M=s64",
      "userId": "07101982746224243904"
     },
     "user_tz": 180
    },
    "id": "QWjivTI9EJV7",
    "outputId": "5f213e38-0f20-4bdb-9d94-9425062e611d"
   },
   "outputs": [
    {
     "data": {
      "text/plain": [
       "Index(['Classificação', 'Nome', 'Plataforma', 'Ano', 'Gênero', 'Editora',\n",
       "       'NA_Vendas', 'EU_Vendas', 'JP_Vendas', 'Outras_Vendas',\n",
       "       'Vendas_Globais'],\n",
       "      dtype='object')"
      ]
     },
     "execution_count": 7,
     "metadata": {},
     "output_type": "execute_result"
    }
   ],
   "source": [
    "# Mostrando nome de colunas\n",
    "df.columns"
   ]
  },
  {
   "cell_type": "code",
   "execution_count": 8,
   "metadata": {
    "colab": {
     "base_uri": "https://localhost:8080/"
    },
    "executionInfo": {
     "elapsed": 14,
     "status": "ok",
     "timestamp": 1625959988080,
     "user": {
      "displayName": "Anderson Augusto Duque",
      "photoUrl": "https://lh3.googleusercontent.com/a-/AOh14GhVCg87gcSgHrt_JEZkELWxnRFMpzU-K5Ztbb4M=s64",
      "userId": "07101982746224243904"
     },
     "user_tz": 180
    },
    "id": "ldWLxYZOEYho",
    "outputId": "cb2a2b5a-9a7b-4c7e-81a5-eeea15203d5f"
   },
   "outputs": [
    {
     "data": {
      "text/plain": [
       "Classificação       int64\n",
       "Nome               object\n",
       "Plataforma         object\n",
       "Ano               float64\n",
       "Gênero             object\n",
       "Editora            object\n",
       "NA_Vendas         float64\n",
       "EU_Vendas         float64\n",
       "JP_Vendas         float64\n",
       "Outras_Vendas     float64\n",
       "Vendas_Globais    float64\n",
       "dtype: object"
      ]
     },
     "execution_count": 8,
     "metadata": {},
     "output_type": "execute_result"
    }
   ],
   "source": [
    "# Tipos de dados em cada coluna\n",
    "df.dtypes"
   ]
  },
  {
   "cell_type": "code",
   "execution_count": 9,
   "metadata": {
    "colab": {
     "base_uri": "https://localhost:8080/",
     "height": 411
    },
    "executionInfo": {
     "elapsed": 371,
     "status": "ok",
     "timestamp": 1625962051522,
     "user": {
      "displayName": "Anderson Augusto Duque",
      "photoUrl": "https://lh3.googleusercontent.com/a-/AOh14GhVCg87gcSgHrt_JEZkELWxnRFMpzU-K5Ztbb4M=s64",
      "userId": "07101982746224243904"
     },
     "user_tz": 180
    },
    "id": "-tbYIJaJ45O6",
    "outputId": "cf96ba1b-02f4-4d29-94c2-a37372a0c7c2"
   },
   "outputs": [
    {
     "data": {
      "text/html": [
       "<div>\n",
       "<style scoped>\n",
       "    .dataframe tbody tr th:only-of-type {\n",
       "        vertical-align: middle;\n",
       "    }\n",
       "\n",
       "    .dataframe tbody tr th {\n",
       "        vertical-align: top;\n",
       "    }\n",
       "\n",
       "    .dataframe thead th {\n",
       "        text-align: right;\n",
       "    }\n",
       "</style>\n",
       "<table border=\"1\" class=\"dataframe\">\n",
       "  <thead>\n",
       "    <tr style=\"text-align: right;\">\n",
       "      <th></th>\n",
       "      <th>Classificação</th>\n",
       "      <th>Nome</th>\n",
       "      <th>Plataforma</th>\n",
       "      <th>Ano</th>\n",
       "      <th>Gênero</th>\n",
       "      <th>Editora</th>\n",
       "      <th>NA_Vendas</th>\n",
       "      <th>EU_Vendas</th>\n",
       "      <th>JP_Vendas</th>\n",
       "      <th>Outras_Vendas</th>\n",
       "      <th>Vendas_Globais</th>\n",
       "    </tr>\n",
       "  </thead>\n",
       "  <tbody>\n",
       "    <tr>\n",
       "      <th>16593</th>\n",
       "      <td>16596</td>\n",
       "      <td>Woody Woodpecker in Crazy Castle 5</td>\n",
       "      <td>GBA</td>\n",
       "      <td>2002.0</td>\n",
       "      <td>Platform</td>\n",
       "      <td>Kemco</td>\n",
       "      <td>0.01</td>\n",
       "      <td>0.00</td>\n",
       "      <td>0.0</td>\n",
       "      <td>0.0</td>\n",
       "      <td>0.01</td>\n",
       "    </tr>\n",
       "    <tr>\n",
       "      <th>16594</th>\n",
       "      <td>16597</td>\n",
       "      <td>Men in Black II: Alien Escape</td>\n",
       "      <td>GC</td>\n",
       "      <td>2003.0</td>\n",
       "      <td>Shooter</td>\n",
       "      <td>Infogrames</td>\n",
       "      <td>0.01</td>\n",
       "      <td>0.00</td>\n",
       "      <td>0.0</td>\n",
       "      <td>0.0</td>\n",
       "      <td>0.01</td>\n",
       "    </tr>\n",
       "    <tr>\n",
       "      <th>16595</th>\n",
       "      <td>16598</td>\n",
       "      <td>SCORE International Baja 1000: The Official Game</td>\n",
       "      <td>PS2</td>\n",
       "      <td>2008.0</td>\n",
       "      <td>Racing</td>\n",
       "      <td>Activision</td>\n",
       "      <td>0.00</td>\n",
       "      <td>0.00</td>\n",
       "      <td>0.0</td>\n",
       "      <td>0.0</td>\n",
       "      <td>0.01</td>\n",
       "    </tr>\n",
       "    <tr>\n",
       "      <th>16596</th>\n",
       "      <td>16599</td>\n",
       "      <td>Know How 2</td>\n",
       "      <td>DS</td>\n",
       "      <td>2010.0</td>\n",
       "      <td>Puzzle</td>\n",
       "      <td>7G//AMES</td>\n",
       "      <td>0.00</td>\n",
       "      <td>0.01</td>\n",
       "      <td>0.0</td>\n",
       "      <td>0.0</td>\n",
       "      <td>0.01</td>\n",
       "    </tr>\n",
       "    <tr>\n",
       "      <th>16597</th>\n",
       "      <td>16600</td>\n",
       "      <td>Spirits &amp; Spells</td>\n",
       "      <td>GBA</td>\n",
       "      <td>2003.0</td>\n",
       "      <td>Platform</td>\n",
       "      <td>Wanadoo</td>\n",
       "      <td>0.01</td>\n",
       "      <td>0.00</td>\n",
       "      <td>0.0</td>\n",
       "      <td>0.0</td>\n",
       "      <td>0.01</td>\n",
       "    </tr>\n",
       "  </tbody>\n",
       "</table>\n",
       "</div>"
      ],
      "text/plain": [
       "       Classificação                                              Nome  \\\n",
       "16593          16596                Woody Woodpecker in Crazy Castle 5   \n",
       "16594          16597                     Men in Black II: Alien Escape   \n",
       "16595          16598  SCORE International Baja 1000: The Official Game   \n",
       "16596          16599                                        Know How 2   \n",
       "16597          16600                                  Spirits & Spells   \n",
       "\n",
       "      Plataforma     Ano    Gênero     Editora  NA_Vendas  EU_Vendas  \\\n",
       "16593        GBA  2002.0  Platform       Kemco       0.01       0.00   \n",
       "16594         GC  2003.0   Shooter  Infogrames       0.01       0.00   \n",
       "16595        PS2  2008.0    Racing  Activision       0.00       0.00   \n",
       "16596         DS  2010.0    Puzzle    7G//AMES       0.00       0.01   \n",
       "16597        GBA  2003.0  Platform     Wanadoo       0.01       0.00   \n",
       "\n",
       "       JP_Vendas  Outras_Vendas  Vendas_Globais  \n",
       "16593        0.0            0.0            0.01  \n",
       "16594        0.0            0.0            0.01  \n",
       "16595        0.0            0.0            0.01  \n",
       "16596        0.0            0.0            0.01  \n",
       "16597        0.0            0.0            0.01  "
      ]
     },
     "execution_count": 9,
     "metadata": {},
     "output_type": "execute_result"
    }
   ],
   "source": [
    "# monstrando as ultimas linhas \n",
    "df.tail(5)"
   ]
  },
  {
   "cell_type": "code",
   "execution_count": 10,
   "metadata": {
    "colab": {
     "base_uri": "https://localhost:8080/",
     "height": 317
    },
    "executionInfo": {
     "elapsed": 393,
     "status": "ok",
     "timestamp": 1625962261770,
     "user": {
      "displayName": "Anderson Augusto Duque",
      "photoUrl": "https://lh3.googleusercontent.com/a-/AOh14GhVCg87gcSgHrt_JEZkELWxnRFMpzU-K5Ztbb4M=s64",
      "userId": "07101982746224243904"
     },
     "user_tz": 180
    },
    "id": "VbGM-hHe5wNW",
    "outputId": "1a2273dd-5a72-465f-cfd4-1c0a2a1177da"
   },
   "outputs": [
    {
     "data": {
      "text/html": [
       "<div>\n",
       "<style scoped>\n",
       "    .dataframe tbody tr th:only-of-type {\n",
       "        vertical-align: middle;\n",
       "    }\n",
       "\n",
       "    .dataframe tbody tr th {\n",
       "        vertical-align: top;\n",
       "    }\n",
       "\n",
       "    .dataframe thead th {\n",
       "        text-align: right;\n",
       "    }\n",
       "</style>\n",
       "<table border=\"1\" class=\"dataframe\">\n",
       "  <thead>\n",
       "    <tr style=\"text-align: right;\">\n",
       "      <th></th>\n",
       "      <th>Classificação</th>\n",
       "      <th>Ano</th>\n",
       "      <th>NA_Vendas</th>\n",
       "      <th>EU_Vendas</th>\n",
       "      <th>JP_Vendas</th>\n",
       "      <th>Outras_Vendas</th>\n",
       "      <th>Vendas_Globais</th>\n",
       "    </tr>\n",
       "  </thead>\n",
       "  <tbody>\n",
       "    <tr>\n",
       "      <th>count</th>\n",
       "      <td>16598.000000</td>\n",
       "      <td>16327.000000</td>\n",
       "      <td>16598.000000</td>\n",
       "      <td>16598.000000</td>\n",
       "      <td>16598.000000</td>\n",
       "      <td>16598.000000</td>\n",
       "      <td>16598.000000</td>\n",
       "    </tr>\n",
       "    <tr>\n",
       "      <th>mean</th>\n",
       "      <td>8300.605254</td>\n",
       "      <td>2006.406443</td>\n",
       "      <td>0.264667</td>\n",
       "      <td>0.146652</td>\n",
       "      <td>0.077782</td>\n",
       "      <td>0.048063</td>\n",
       "      <td>0.537441</td>\n",
       "    </tr>\n",
       "    <tr>\n",
       "      <th>std</th>\n",
       "      <td>4791.853933</td>\n",
       "      <td>5.828981</td>\n",
       "      <td>0.816683</td>\n",
       "      <td>0.505351</td>\n",
       "      <td>0.309291</td>\n",
       "      <td>0.188588</td>\n",
       "      <td>1.555028</td>\n",
       "    </tr>\n",
       "    <tr>\n",
       "      <th>min</th>\n",
       "      <td>1.000000</td>\n",
       "      <td>1980.000000</td>\n",
       "      <td>0.000000</td>\n",
       "      <td>0.000000</td>\n",
       "      <td>0.000000</td>\n",
       "      <td>0.000000</td>\n",
       "      <td>0.010000</td>\n",
       "    </tr>\n",
       "    <tr>\n",
       "      <th>25%</th>\n",
       "      <td>4151.250000</td>\n",
       "      <td>2003.000000</td>\n",
       "      <td>0.000000</td>\n",
       "      <td>0.000000</td>\n",
       "      <td>0.000000</td>\n",
       "      <td>0.000000</td>\n",
       "      <td>0.060000</td>\n",
       "    </tr>\n",
       "    <tr>\n",
       "      <th>50%</th>\n",
       "      <td>8300.500000</td>\n",
       "      <td>2007.000000</td>\n",
       "      <td>0.080000</td>\n",
       "      <td>0.020000</td>\n",
       "      <td>0.000000</td>\n",
       "      <td>0.010000</td>\n",
       "      <td>0.170000</td>\n",
       "    </tr>\n",
       "    <tr>\n",
       "      <th>75%</th>\n",
       "      <td>12449.750000</td>\n",
       "      <td>2010.000000</td>\n",
       "      <td>0.240000</td>\n",
       "      <td>0.110000</td>\n",
       "      <td>0.040000</td>\n",
       "      <td>0.040000</td>\n",
       "      <td>0.470000</td>\n",
       "    </tr>\n",
       "    <tr>\n",
       "      <th>max</th>\n",
       "      <td>16600.000000</td>\n",
       "      <td>2020.000000</td>\n",
       "      <td>41.490000</td>\n",
       "      <td>29.020000</td>\n",
       "      <td>10.220000</td>\n",
       "      <td>10.570000</td>\n",
       "      <td>82.740000</td>\n",
       "    </tr>\n",
       "  </tbody>\n",
       "</table>\n",
       "</div>"
      ],
      "text/plain": [
       "       Classificação           Ano     NA_Vendas     EU_Vendas     JP_Vendas  \\\n",
       "count   16598.000000  16327.000000  16598.000000  16598.000000  16598.000000   \n",
       "mean     8300.605254   2006.406443      0.264667      0.146652      0.077782   \n",
       "std      4791.853933      5.828981      0.816683      0.505351      0.309291   \n",
       "min         1.000000   1980.000000      0.000000      0.000000      0.000000   \n",
       "25%      4151.250000   2003.000000      0.000000      0.000000      0.000000   \n",
       "50%      8300.500000   2007.000000      0.080000      0.020000      0.000000   \n",
       "75%     12449.750000   2010.000000      0.240000      0.110000      0.040000   \n",
       "max     16600.000000   2020.000000     41.490000     29.020000     10.220000   \n",
       "\n",
       "       Outras_Vendas  Vendas_Globais  \n",
       "count   16598.000000    16598.000000  \n",
       "mean        0.048063        0.537441  \n",
       "std         0.188588        1.555028  \n",
       "min         0.000000        0.010000  \n",
       "25%         0.000000        0.060000  \n",
       "50%         0.010000        0.170000  \n",
       "75%         0.040000        0.470000  \n",
       "max        10.570000       82.740000  "
      ]
     },
     "execution_count": 10,
     "metadata": {},
     "output_type": "execute_result"
    }
   ],
   "source": [
    "# Retornando informações estatísticas do conjunto de dados\n",
    "df.describe()"
   ]
  },
  {
   "cell_type": "code",
   "execution_count": 11,
   "metadata": {
    "colab": {
     "base_uri": "https://localhost:8080/"
    },
    "executionInfo": {
     "elapsed": 393,
     "status": "ok",
     "timestamp": 1625962609184,
     "user": {
      "displayName": "Anderson Augusto Duque",
      "photoUrl": "https://lh3.googleusercontent.com/a-/AOh14GhVCg87gcSgHrt_JEZkELWxnRFMpzU-K5Ztbb4M=s64",
      "userId": "07101982746224243904"
     },
     "user_tz": 180
    },
    "id": "PdVb8LHA6Voa",
    "outputId": "3bd6fcb0-7d9f-455c-ab6e-4d463a35405f"
   },
   "outputs": [
    {
     "data": {
      "text/plain": [
       "array(['Sports', 'Platform', 'Racing', 'Role-Playing', 'Puzzle', 'Misc',\n",
       "       'Shooter', 'Simulation', 'Action', 'Fighting', 'Adventure',\n",
       "       'Strategy'], dtype=object)"
      ]
     },
     "execution_count": 11,
     "metadata": {},
     "output_type": "execute_result"
    }
   ],
   "source": [
    "# mostra os valores por colunas\n",
    "df['Gênero'].unique()"
   ]
  },
  {
   "cell_type": "code",
   "execution_count": 12,
   "metadata": {
    "colab": {
     "base_uri": "https://localhost:8080/",
     "height": 360
    },
    "executionInfo": {
     "elapsed": 516,
     "status": "ok",
     "timestamp": 1625963393545,
     "user": {
      "displayName": "Anderson Augusto Duque",
      "photoUrl": "https://lh3.googleusercontent.com/a-/AOh14GhVCg87gcSgHrt_JEZkELWxnRFMpzU-K5Ztbb4M=s64",
      "userId": "07101982746224243904"
     },
     "user_tz": 180
    },
    "id": "bs-bDUz-7XnC",
    "outputId": "8292ccf6-8dc5-4c80-9495-476003b4a504"
   },
   "outputs": [
    {
     "data": {
      "text/html": [
       "<div>\n",
       "<style scoped>\n",
       "    .dataframe tbody tr th:only-of-type {\n",
       "        vertical-align: middle;\n",
       "    }\n",
       "\n",
       "    .dataframe tbody tr th {\n",
       "        vertical-align: top;\n",
       "    }\n",
       "\n",
       "    .dataframe thead th {\n",
       "        text-align: right;\n",
       "    }\n",
       "</style>\n",
       "<table border=\"1\" class=\"dataframe\">\n",
       "  <thead>\n",
       "    <tr style=\"text-align: right;\">\n",
       "      <th></th>\n",
       "      <th>Classificação</th>\n",
       "      <th>Nome</th>\n",
       "      <th>Plataforma</th>\n",
       "      <th>Ano</th>\n",
       "      <th>Gênero</th>\n",
       "      <th>Editora</th>\n",
       "      <th>NA_Vendas</th>\n",
       "      <th>EU_Vendas</th>\n",
       "      <th>JP_Vendas</th>\n",
       "      <th>Outras_Vendas</th>\n",
       "      <th>Vendas_Globais</th>\n",
       "    </tr>\n",
       "  </thead>\n",
       "  <tbody>\n",
       "    <tr>\n",
       "      <th>2</th>\n",
       "      <td>3</td>\n",
       "      <td>Mario Kart Wii</td>\n",
       "      <td>Wii</td>\n",
       "      <td>2008.0</td>\n",
       "      <td>Racing</td>\n",
       "      <td>Nintendo</td>\n",
       "      <td>15.85</td>\n",
       "      <td>12.88</td>\n",
       "      <td>3.79</td>\n",
       "      <td>3.31</td>\n",
       "      <td>35.82</td>\n",
       "    </tr>\n",
       "    <tr>\n",
       "      <th>11</th>\n",
       "      <td>12</td>\n",
       "      <td>Mario Kart DS</td>\n",
       "      <td>DS</td>\n",
       "      <td>2005.0</td>\n",
       "      <td>Racing</td>\n",
       "      <td>Nintendo</td>\n",
       "      <td>9.81</td>\n",
       "      <td>7.57</td>\n",
       "      <td>4.13</td>\n",
       "      <td>1.92</td>\n",
       "      <td>23.42</td>\n",
       "    </tr>\n",
       "    <tr>\n",
       "      <th>28</th>\n",
       "      <td>29</td>\n",
       "      <td>Gran Turismo 3: A-Spec</td>\n",
       "      <td>PS2</td>\n",
       "      <td>2001.0</td>\n",
       "      <td>Racing</td>\n",
       "      <td>Sony Computer Entertainment</td>\n",
       "      <td>6.85</td>\n",
       "      <td>5.09</td>\n",
       "      <td>1.87</td>\n",
       "      <td>1.16</td>\n",
       "      <td>14.98</td>\n",
       "    </tr>\n",
       "    <tr>\n",
       "      <th>42</th>\n",
       "      <td>43</td>\n",
       "      <td>Mario Kart 7</td>\n",
       "      <td>3DS</td>\n",
       "      <td>2011.0</td>\n",
       "      <td>Racing</td>\n",
       "      <td>Nintendo</td>\n",
       "      <td>4.74</td>\n",
       "      <td>3.91</td>\n",
       "      <td>2.67</td>\n",
       "      <td>0.89</td>\n",
       "      <td>12.21</td>\n",
       "    </tr>\n",
       "    <tr>\n",
       "      <th>47</th>\n",
       "      <td>48</td>\n",
       "      <td>Gran Turismo 4</td>\n",
       "      <td>PS2</td>\n",
       "      <td>2004.0</td>\n",
       "      <td>Racing</td>\n",
       "      <td>Sony Computer Entertainment</td>\n",
       "      <td>3.01</td>\n",
       "      <td>0.01</td>\n",
       "      <td>1.10</td>\n",
       "      <td>7.53</td>\n",
       "      <td>11.66</td>\n",
       "    </tr>\n",
       "  </tbody>\n",
       "</table>\n",
       "</div>"
      ],
      "text/plain": [
       "    Classificação                    Nome Plataforma     Ano  Gênero  \\\n",
       "2               3          Mario Kart Wii        Wii  2008.0  Racing   \n",
       "11             12           Mario Kart DS         DS  2005.0  Racing   \n",
       "28             29  Gran Turismo 3: A-Spec        PS2  2001.0  Racing   \n",
       "42             43            Mario Kart 7        3DS  2011.0  Racing   \n",
       "47             48          Gran Turismo 4        PS2  2004.0  Racing   \n",
       "\n",
       "                        Editora  NA_Vendas  EU_Vendas  JP_Vendas  \\\n",
       "2                      Nintendo      15.85      12.88       3.79   \n",
       "11                     Nintendo       9.81       7.57       4.13   \n",
       "28  Sony Computer Entertainment       6.85       5.09       1.87   \n",
       "42                     Nintendo       4.74       3.91       2.67   \n",
       "47  Sony Computer Entertainment       3.01       0.01       1.10   \n",
       "\n",
       "    Outras_Vendas  Vendas_Globais  \n",
       "2            3.31           35.82  \n",
       "11           1.92           23.42  \n",
       "28           1.16           14.98  \n",
       "42           0.89           12.21  \n",
       "47           7.53           11.66  "
      ]
     },
     "execution_count": 12,
     "metadata": {},
     "output_type": "execute_result"
    }
   ],
   "source": [
    "# mostra os valores especificos de uma coluna\n",
    "Gênero = df.loc[df['Gênero']== 'Racing']\n",
    "Gênero.head()"
   ]
  },
  {
   "cell_type": "code",
   "execution_count": 13,
   "metadata": {
    "colab": {
     "base_uri": "https://localhost:8080/"
    },
    "executionInfo": {
     "elapsed": 368,
     "status": "ok",
     "timestamp": 1625964044336,
     "user": {
      "displayName": "Anderson Augusto Duque",
      "photoUrl": "https://lh3.googleusercontent.com/a-/AOh14GhVCg87gcSgHrt_JEZkELWxnRFMpzU-K5Ztbb4M=s64",
      "userId": "07101982746224243904"
     },
     "user_tz": 180
    },
    "id": "nQhA6dY8-wdV",
    "outputId": "cb2ad2b1-1b15-49c1-bbb8-3d23055f8218"
   },
   "outputs": [
    {
     "data": {
      "text/plain": [
       "Plataforma\n",
       "2600     75\n",
       "3DO       1\n",
       "3DS      67\n",
       "DC        7\n",
       "DS      142\n",
       "GB       46\n",
       "GBA     112\n",
       "GC      101\n",
       "GEN      12\n",
       "GG        1\n",
       "N64     105\n",
       "NES      61\n",
       "NG        1\n",
       "PC       81\n",
       "PCFX      1\n",
       "PS      160\n",
       "PS2     199\n",
       "PS3     164\n",
       "PS4      92\n",
       "PSP      83\n",
       "PSV      36\n",
       "SAT       4\n",
       "SCD       2\n",
       "SNES     39\n",
       "TG16      1\n",
       "WS        1\n",
       "Wii     159\n",
       "WiiU     53\n",
       "X360    206\n",
       "XB      110\n",
       "XOne     86\n",
       "Name: NA_Vendas, dtype: int64"
      ]
     },
     "execution_count": 13,
     "metadata": {},
     "output_type": "execute_result"
    }
   ],
   "source": [
    "# ordenando o número de games vendidos ena coluna NA_Vendas por Plataforma\n",
    "df.groupby(\"Plataforma\")[\"NA_Vendas\"].nunique()"
   ]
  },
  {
   "cell_type": "code",
   "execution_count": 22,
   "metadata": {},
   "outputs": [
    {
     "data": {
      "text/plain": [
       "Electronic Arts                 1351\n",
       "Activision                       975\n",
       "Namco Bandai Games               932\n",
       "Ubisoft                          921\n",
       "Konami Digital Entertainment     832\n",
       "                                ... \n",
       "Warp                               1\n",
       "New                                1\n",
       "Elite                              1\n",
       "Evolution Games                    1\n",
       "UIG Entertainment                  1\n",
       "Name: Editora, Length: 578, dtype: int64"
      ]
     },
     "execution_count": 22,
     "metadata": {},
     "output_type": "execute_result"
    }
   ],
   "source": [
    "# Ordenando as editoras dos games vendidos\n",
    "df[\"Editora\"].value_counts()"
   ]
  },
  {
   "cell_type": "code",
   "execution_count": 14,
   "metadata": {
    "id": "0iqcIHhFH2ha"
   },
   "outputs": [],
   "source": [
    "df[\"Vendas_Globais\"].fillna(df[\"Vendas_Globais\"].mean(), inplace=True)"
   ]
  },
  {
   "cell_type": "code",
   "execution_count": 15,
   "metadata": {
    "colab": {
     "base_uri": "https://localhost:8080/"
    },
    "executionInfo": {
     "elapsed": 15,
     "status": "ok",
     "timestamp": 1625966294986,
     "user": {
      "displayName": "Anderson Augusto Duque",
      "photoUrl": "https://lh3.googleusercontent.com/a-/AOh14GhVCg87gcSgHrt_JEZkELWxnRFMpzU-K5Ztbb4M=s64",
      "userId": "07101982746224243904"
     },
     "user_tz": 180
    },
    "id": "JdEKSmehJDg6",
    "outputId": "ae394498-d582-45ad-8b02-13ea3f1bf3c3"
   },
   "outputs": [
    {
     "data": {
      "text/plain": [
       "0.5374406555006628"
      ]
     },
     "execution_count": 15,
     "metadata": {},
     "output_type": "execute_result"
    }
   ],
   "source": [
    "df[\"Vendas_Globais\"].mean()"
   ]
  },
  {
   "cell_type": "code",
   "execution_count": 16,
   "metadata": {},
   "outputs": [
    {
     "data": {
      "image/png": "[encoded data removed]",
      "text/plain": [
       "<Figure size 432x288 with 1 Axes>"
      ]
     },
     "metadata": {},
     "output_type": "display_data"
    },
    {
     "data": {
      "image/png": "[encoded data removed]",
      "text/plain": [
       "<Figure size 432x288 with 1 Axes>"
      ]
     },
     "metadata": {},
     "output_type": "display_data"
    },
    {
     "data": {
      "image/png": "[encoded data removed]",
      "text/plain": [
       "<Figure size 432x288 with 1 Axes>"
      ]
     },
     "metadata": {},
     "output_type": "display_data"
    },
    {
     "data": {
      "image/png": "[encoded data removed]",
      "text/plain": [
       "<Figure size 432x288 with 1 Axes>"
      ]
     },
     "metadata": {},
     "output_type": "display_data"
    },
    {
     "data": {
      "image/png": "[encoded data removed]",
      "text/plain": [
       "<Figure size 432x288 with 1 Axes>"
      ]
     },
     "metadata": {},
     "output_type": "display_data"
    }
   ],
   "source": [
    "# conjunto de gráficos dos 5 primeiros games vendidos\n",
    "\n",
    "# vendas Wii Sports\n",
    "Total_Vendas = [41.49, 29.02, 3.77, 8.49]\n",
    "labels = ['NA_Vendas', 'EU_Vendas','JP_Vendas', 'Outras_Vendas']\n",
    "\n",
    "explode = (0.1, 0, 0, 0)\n",
    "\n",
    "plt.pie(Total_Vendas, labels=labels, autopct='%1.1f%%', shadow=True, explode=explode)\n",
    "\n",
    "plt.legend(labels, loc=3)\n",
    "\n",
    "plt.axis('equal')\n",
    "\n",
    "plt.title('Visualização Estatística das vendas - Wii Sports')\n",
    "\n",
    "plt.show()\n",
    "\n",
    "# vendas Super Mario Bros\n",
    "Total_Vendas = [29.08, 3.58, 6.81, 0.77]\n",
    "labels = ['NA_Vendas', 'EU_Vendas','JP_Vendas', 'Outras_Vendas']\n",
    "\n",
    "explode = (0.1, 0, 0, 0)\n",
    "\n",
    "plt.pie(Total_Vendas, labels=labels, autopct='%1.1f%%', shadow=True, explode=explode)\n",
    "\n",
    "plt.legend(labels, loc=3)\n",
    "\n",
    "plt.axis('equal')\n",
    "\n",
    "plt.title('Visualização Estatística das vendas - Super Mario Bros. - NES')\n",
    "\n",
    "plt.show()\n",
    "\n",
    "# vendas Mario Kart\n",
    "Total_Vendas = [15.85, 12.88, 3.79, 3.31]\n",
    "labels = ['NA_Vendas', 'EU_Vendas','JP_Vendas', 'Outras_Vendas']\n",
    "\n",
    "explode = (0.1, 0, 0, 0)\n",
    "\n",
    "plt.pie(Total_Vendas, labels=labels, autopct='%1.1f%%', shadow=True, explode=explode)\n",
    "\n",
    "plt.legend(labels, loc=3)\n",
    "\n",
    "plt.axis('equal')\n",
    "\n",
    "plt.title('Visualização Estatística das vendas - Mario Kart. - Wii')\n",
    "\n",
    "plt.show()\n",
    "\n",
    "# vendas Wii Sports Resort\n",
    "Total_Vendas = [15.75, 11.01, 3.28, 1.00]\n",
    "labels = ['NA_Vendas', 'EU_Vendas','JP_Vendas', 'Outras_Vendas']\n",
    "\n",
    "explode = (0.1, 0, 0, 0)\n",
    "\n",
    "plt.pie(Total_Vendas, labels=labels, autopct='%1.1f%%', shadow=True, explode=explode)\n",
    "\n",
    "plt.legend(labels, loc=3)\n",
    "\n",
    "plt.axis('equal')\n",
    "\n",
    "plt.title('Visualização Estatística das vendas - Wii Sports Resort. - Wii')\n",
    "\n",
    "plt.show()\n",
    "\n",
    "# vendas Pokemon Red/Pokemon Blue\n",
    "Total_Vendas = [11.27, 8.89, 10.22, 2.96]\n",
    "labels = ['NA_Vendas', 'EU_Vendas','JP_Vendas', 'Outras_Vendas']\n",
    "\n",
    "explode = (0.1, 0, 0, 0)\n",
    "\n",
    "plt.pie(Total_Vendas, labels=labels, autopct='%1.1f%%', shadow=True, explode=explode)\n",
    "\n",
    "plt.legend(labels, loc=3)\n",
    "\n",
    "plt.axis('equal')\n",
    "\n",
    "plt.title('Visualização Estatística das vendas - Pokemon Red/Pokemon Blue. - GB')\n",
    "\n",
    "plt.show()"
   ]
  },
  {
   "cell_type": "code",
   "execution_count": 17,
   "metadata": {
    "colab": {
     "base_uri": "https://localhost:8080/",
     "height": 298
    },
    "executionInfo": {
     "elapsed": 445,
     "status": "ok",
     "timestamp": 1625969473565,
     "user": {
      "displayName": "Anderson Augusto Duque",
      "photoUrl": "https://lh3.googleusercontent.com/a-/AOh14GhVCg87gcSgHrt_JEZkELWxnRFMpzU-K5Ztbb4M=s64",
      "userId": "07101982746224243904"
     },
     "user_tz": 180
    },
    "id": "xUc7iJZNJ7lm",
    "outputId": "96b74bca-5d3c-42ce-8050-d4608f3c132f"
   },
   "outputs": [
    {
     "data": {
      "image/png": "[encoded data removed]",
      "text/plain": [
       "<Figure size 432x288 with 1 Axes>"
      ]
     },
     "metadata": {
      "needs_background": "light"
     },
     "output_type": "display_data"
    }
   ],
   "source": [
    "# Mostrando gráfico de vendas \n",
    "df[\"Plataforma\"].value_counts(ascending=False).plot.bar()\n",
    "plt.title(\"Plataformas com mais games vendidos\");"
   ]
  },
  {
   "cell_type": "code",
   "execution_count": 18,
   "metadata": {
    "colab": {
     "base_uri": "https://localhost:8080/",
     "height": 281
    },
    "executionInfo": {
     "elapsed": 393,
     "status": "ok",
     "timestamp": 1625967684272,
     "user": {
      "displayName": "Anderson Augusto Duque",
      "photoUrl": "https://lh3.googleusercontent.com/a-/AOh14GhVCg87gcSgHrt_JEZkELWxnRFMpzU-K5Ztbb4M=s64",
      "userId": "07101982746224243904"
     },
     "user_tz": 180
    },
    "id": "3ToxNVkfL82Q",
    "outputId": "a48482a6-750e-461d-a578-8ed62b939fb4"
   },
   "outputs": [
    {
     "data": {
      "image/png": "[encoded data removed]",
      "text/plain": [
       "<Figure size 432x288 with 1 Axes>"
      ]
     },
     "metadata": {
      "needs_background": "light"
     },
     "output_type": "display_data"
    }
   ],
   "source": [
    "# Mostrando gráfico de vendas por gênero\n",
    "df[\"Gênero\"].value_counts(ascending=True).plot.barh();\n",
    "plt.title(\"Gênero mais vendido\");"
   ]
  },
  {
   "cell_type": "code",
   "execution_count": 20,
   "metadata": {
    "colab": {
     "base_uri": "https://localhost:8080/",
     "height": 312
    },
    "executionInfo": {
     "elapsed": 392,
     "status": "ok",
     "timestamp": 1625969323570,
     "user": {
      "displayName": "Anderson Augusto Duque",
      "photoUrl": "https://lh3.googleusercontent.com/a-/AOh14GhVCg87gcSgHrt_JEZkELWxnRFMpzU-K5Ztbb4M=s64",
      "userId": "07101982746224243904"
     },
     "user_tz": 180
    },
    "id": "iDJNjLhbTwnO",
    "outputId": "d696330f-4cc0-4d81-e933-e5fc3c1bf56e"
   },
   "outputs": [
    {
     "data": {
      "image/png": "[encoded data removed]",
      "text/plain": [
       "<Figure size 432x288 with 1 Axes>"
      ]
     },
     "metadata": {
      "needs_background": "light"
     },
     "output_type": "display_data"
    }
   ],
   "source": [
    "# Gráfico de vendas por plataforma de games\n",
    "df[\"Plataforma\"].value_counts().plot.bar(title=\"Total Vendas por Plataforma\")\n",
    "plt.xlabel(\"Plataforma\")\n",
    "plt.ylabel(\"Vendas_Globais\");"
   ]
  },
  {
   "cell_type": "code",
   "execution_count": 24,
   "metadata": {
    "executionInfo": {
     "elapsed": 375,
     "status": "ok",
     "timestamp": 1625970062552,
     "user": {
      "displayName": "Anderson Augusto Duque",
      "photoUrl": "https://lh3.googleusercontent.com/a-/AOh14GhVCg87gcSgHrt_JEZkELWxnRFMpzU-K5Ztbb4M=s64",
      "userId": "07101982746224243904"
     },
     "user_tz": 180
    },
    "id": "t1Iv_ideWmrI"
   },
   "outputs": [],
   "source": [
    "#salvando e renomeando arquivo\n",
    "df.to_csv(\"gameSales.csv\", index=False)"
   ]
  },
  {
   "cell_type": "code",
   "execution_count": null,
   "metadata": {},
   "outputs": [],
   "source": []
  }
 ],
 "metadata": {
  "colab": {
   "authorship_tag": "ABX9TyNIxB+YzoiMjKifjj4z3m0J",
   "mount_file_id": "1vvAnBx2xKZ8Tp2G4eor5iOlh5KqTlcNt",
   "name": "Untitled1.ipynb",
   "provenance": []
  },
  "kernelspec": {
   "display_name": "Python 3 (ipykernel)",
   "language": "python",
   "name": "python3"
  },
  "language_info": {
   "codemirror_mode": {
    "name": "ipython",
    "version": 3
   },
   "file_extension": ".py",
   "mimetype": "text/x-python",
   "name": "python",
   "nbconvert_exporter": "python",
   "pygments_lexer": "ipython3",
   "version": "3.9.6"
  }
 },
 "nbformat": 4,
 "nbformat_minor": 1
}
